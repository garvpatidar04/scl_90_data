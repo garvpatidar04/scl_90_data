{
 "cells": [
  {
   "cell_type": "code",
   "execution_count": 1,
   "id": "fa6e75bf",
   "metadata": {},
   "outputs": [],
   "source": [
    "%matplotlib inline\n",
    "\n",
    "import pandas as pd\n",
    "import numpy as np\n",
    "import matplotlib.pyplot as plt\n",
    "import seaborn as sns\n",
    "plt.style.use('ggplot')"
   ]
  },
  {
   "cell_type": "code",
   "execution_count": 2,
   "id": "ad1a227b",
   "metadata": {},
   "outputs": [],
   "source": [
    "from sklearn.multioutput import MultiOutputClassifier\n",
    "from sklearn.ensemble import RandomForestClassifier\n",
    "from sklearn.metrics import accuracy_score\n",
    "from sklearn.model_selection import train_test_split"
   ]
  },
  {
   "cell_type": "code",
   "execution_count": 3,
   "id": "90b28824",
   "metadata": {},
   "outputs": [],
   "source": [
    "from sklearn.decomposition import PCA\n",
    "from sklearn.manifold import TSNE\n",
    "from sklearn.model_selection import GridSearchCV\n",
    "from sklearn.model_selection import StratifiedKFold\n",
    "from tqdm import tqdm"
   ]
  },
  {
   "cell_type": "code",
   "execution_count": 4,
   "id": "be05be5c",
   "metadata": {},
   "outputs": [],
   "source": [
    "from warnings import filterwarnings\n",
    "filterwarnings('ignore')"
   ]
  },
  {
   "cell_type": "markdown",
   "id": "e2ee141a",
   "metadata": {},
   "source": [
    "##### Below are 2 datasets scl and new_scl,  `scl` is the original and `new_scl` is the randomly derived data from the original"
   ]
  },
  {
   "cell_type": "code",
   "execution_count": 5,
   "id": "6ce19a3b",
   "metadata": {},
   "outputs": [],
   "source": [
    "scl = pd.read_csv('scl90_osf.csv')\n",
    "new_scl = pd.read_csv('SCL90data1.csv')"
   ]
  },
  {
   "cell_type": "code",
   "execution_count": 6,
   "id": "976a9439",
   "metadata": {},
   "outputs": [
    {
     "data": {
      "text/html": [
       "<div>\n",
       "<style scoped>\n",
       "    .dataframe tbody tr th:only-of-type {\n",
       "        vertical-align: middle;\n",
       "    }\n",
       "\n",
       "    .dataframe tbody tr th {\n",
       "        vertical-align: top;\n",
       "    }\n",
       "\n",
       "    .dataframe thead th {\n",
       "        text-align: right;\n",
       "    }\n",
       "</style>\n",
       "<table border=\"1\" class=\"dataframe\">\n",
       "  <thead>\n",
       "    <tr style=\"text-align: right;\">\n",
       "      <th></th>\n",
       "      <th>SCL01</th>\n",
       "      <th>SCL02</th>\n",
       "      <th>SCL03</th>\n",
       "      <th>SCL04</th>\n",
       "      <th>SCL05</th>\n",
       "      <th>SCL06</th>\n",
       "      <th>SCL07</th>\n",
       "      <th>SCL08</th>\n",
       "      <th>SCL09</th>\n",
       "      <th>SCL10</th>\n",
       "      <th>...</th>\n",
       "      <th>SCL81</th>\n",
       "      <th>SCL82</th>\n",
       "      <th>SCL83</th>\n",
       "      <th>SCL84</th>\n",
       "      <th>SCL85</th>\n",
       "      <th>SCL86</th>\n",
       "      <th>SCL87</th>\n",
       "      <th>SCL88</th>\n",
       "      <th>SCL89</th>\n",
       "      <th>SCL90</th>\n",
       "    </tr>\n",
       "  </thead>\n",
       "  <tbody>\n",
       "    <tr>\n",
       "      <th>0</th>\n",
       "      <td>3.0</td>\n",
       "      <td>0.0</td>\n",
       "      <td>3.0</td>\n",
       "      <td>3.0</td>\n",
       "      <td>2.0</td>\n",
       "      <td>0.0</td>\n",
       "      <td>0.0</td>\n",
       "      <td>0.0</td>\n",
       "      <td>2.0</td>\n",
       "      <td>0.0</td>\n",
       "      <td>...</td>\n",
       "      <td>0</td>\n",
       "      <td>3.0</td>\n",
       "      <td>0</td>\n",
       "      <td>0.0</td>\n",
       "      <td>0.0</td>\n",
       "      <td>2.0</td>\n",
       "      <td>0.0</td>\n",
       "      <td>0</td>\n",
       "      <td>0.0</td>\n",
       "      <td>0</td>\n",
       "    </tr>\n",
       "    <tr>\n",
       "      <th>1</th>\n",
       "      <td>2.0</td>\n",
       "      <td>2.0</td>\n",
       "      <td>1.0</td>\n",
       "      <td>3.0</td>\n",
       "      <td>1.0</td>\n",
       "      <td>1.0</td>\n",
       "      <td>1.0</td>\n",
       "      <td>0.0</td>\n",
       "      <td>3.0</td>\n",
       "      <td>2.0</td>\n",
       "      <td>...</td>\n",
       "      <td>0</td>\n",
       "      <td>4.0</td>\n",
       "      <td>2</td>\n",
       "      <td>0.0</td>\n",
       "      <td>1.0</td>\n",
       "      <td>1.0</td>\n",
       "      <td>1.0</td>\n",
       "      <td>0</td>\n",
       "      <td>4.0</td>\n",
       "      <td>2</td>\n",
       "    </tr>\n",
       "    <tr>\n",
       "      <th>2</th>\n",
       "      <td>2.0</td>\n",
       "      <td>3.0</td>\n",
       "      <td>2.0</td>\n",
       "      <td>0.0</td>\n",
       "      <td>4.0</td>\n",
       "      <td>2.0</td>\n",
       "      <td>3.0</td>\n",
       "      <td>2.0</td>\n",
       "      <td>3.0</td>\n",
       "      <td>3.0</td>\n",
       "      <td>...</td>\n",
       "      <td>0</td>\n",
       "      <td>2.0</td>\n",
       "      <td>2</td>\n",
       "      <td>2.0</td>\n",
       "      <td>0.0</td>\n",
       "      <td>0.0</td>\n",
       "      <td>2.0</td>\n",
       "      <td>0</td>\n",
       "      <td>2.0</td>\n",
       "      <td>1</td>\n",
       "    </tr>\n",
       "    <tr>\n",
       "      <th>3</th>\n",
       "      <td>2.0</td>\n",
       "      <td>1.0</td>\n",
       "      <td>0.0</td>\n",
       "      <td>0.0</td>\n",
       "      <td>1.0</td>\n",
       "      <td>0.0</td>\n",
       "      <td>0.0</td>\n",
       "      <td>0.0</td>\n",
       "      <td>0.0</td>\n",
       "      <td>1.0</td>\n",
       "      <td>...</td>\n",
       "      <td>0</td>\n",
       "      <td>0.0</td>\n",
       "      <td>0</td>\n",
       "      <td>0.0</td>\n",
       "      <td>0.0</td>\n",
       "      <td>0.0</td>\n",
       "      <td>0.0</td>\n",
       "      <td>0</td>\n",
       "      <td>0.0</td>\n",
       "      <td>2</td>\n",
       "    </tr>\n",
       "    <tr>\n",
       "      <th>4</th>\n",
       "      <td>1.0</td>\n",
       "      <td>1.0</td>\n",
       "      <td>0.0</td>\n",
       "      <td>1.0</td>\n",
       "      <td>0.0</td>\n",
       "      <td>0.0</td>\n",
       "      <td>0.0</td>\n",
       "      <td>0.0</td>\n",
       "      <td>1.0</td>\n",
       "      <td>0.0</td>\n",
       "      <td>...</td>\n",
       "      <td>0</td>\n",
       "      <td>0.0</td>\n",
       "      <td>0</td>\n",
       "      <td>0.0</td>\n",
       "      <td>0.0</td>\n",
       "      <td>0.0</td>\n",
       "      <td>0.0</td>\n",
       "      <td>0</td>\n",
       "      <td>0.0</td>\n",
       "      <td>1</td>\n",
       "    </tr>\n",
       "  </tbody>\n",
       "</table>\n",
       "<p>5 rows × 90 columns</p>\n",
       "</div>"
      ],
      "text/plain": [
       "   SCL01  SCL02  SCL03  SCL04  SCL05  SCL06  SCL07  SCL08  SCL09  SCL10  ...  \\\n",
       "0    3.0    0.0    3.0    3.0    2.0    0.0    0.0    0.0    2.0    0.0  ...   \n",
       "1    2.0    2.0    1.0    3.0    1.0    1.0    1.0    0.0    3.0    2.0  ...   \n",
       "2    2.0    3.0    2.0    0.0    4.0    2.0    3.0    2.0    3.0    3.0  ...   \n",
       "3    2.0    1.0    0.0    0.0    1.0    0.0    0.0    0.0    0.0    1.0  ...   \n",
       "4    1.0    1.0    0.0    1.0    0.0    0.0    0.0    0.0    1.0    0.0  ...   \n",
       "\n",
       "   SCL81  SCL82  SCL83  SCL84  SCL85  SCL86  SCL87  SCL88  SCL89  SCL90  \n",
       "0      0    3.0      0    0.0    0.0    2.0    0.0      0    0.0      0  \n",
       "1      0    4.0      2    0.0    1.0    1.0    1.0      0    4.0      2  \n",
       "2      0    2.0      2    2.0    0.0    0.0    2.0      0    2.0      1  \n",
       "3      0    0.0      0    0.0    0.0    0.0    0.0      0    0.0      2  \n",
       "4      0    0.0      0    0.0    0.0    0.0    0.0      0    0.0      1  \n",
       "\n",
       "[5 rows x 90 columns]"
      ]
     },
     "execution_count": 6,
     "metadata": {},
     "output_type": "execute_result"
    }
   ],
   "source": [
    "scl.head().iloc[:,11:101]"
   ]
  },
  {
   "cell_type": "code",
   "execution_count": 7,
   "id": "166a105e",
   "metadata": {},
   "outputs": [
    {
     "data": {
      "text/html": [
       "<div>\n",
       "<style scoped>\n",
       "    .dataframe tbody tr th:only-of-type {\n",
       "        vertical-align: middle;\n",
       "    }\n",
       "\n",
       "    .dataframe tbody tr th {\n",
       "        vertical-align: top;\n",
       "    }\n",
       "\n",
       "    .dataframe thead th {\n",
       "        text-align: right;\n",
       "    }\n",
       "</style>\n",
       "<table border=\"1\" class=\"dataframe\">\n",
       "  <thead>\n",
       "    <tr style=\"text-align: right;\">\n",
       "      <th></th>\n",
       "      <th>SCL01</th>\n",
       "      <th>SCL02</th>\n",
       "      <th>SCL03</th>\n",
       "      <th>SCL04</th>\n",
       "      <th>SCL05</th>\n",
       "      <th>SCL06</th>\n",
       "      <th>SCL07</th>\n",
       "      <th>SCL08</th>\n",
       "      <th>SCL09</th>\n",
       "      <th>SCL10</th>\n",
       "      <th>...</th>\n",
       "      <th>SCL81</th>\n",
       "      <th>SCL82</th>\n",
       "      <th>SCL83</th>\n",
       "      <th>SCL84</th>\n",
       "      <th>SCL85</th>\n",
       "      <th>SCL86</th>\n",
       "      <th>SCL87</th>\n",
       "      <th>SCL88</th>\n",
       "      <th>SCL89</th>\n",
       "      <th>SCL90</th>\n",
       "    </tr>\n",
       "  </thead>\n",
       "  <tbody>\n",
       "    <tr>\n",
       "      <th>0</th>\n",
       "      <td>3.0</td>\n",
       "      <td>0.0</td>\n",
       "      <td>3.0</td>\n",
       "      <td>3.0</td>\n",
       "      <td>2.0</td>\n",
       "      <td>0.0</td>\n",
       "      <td>0.0</td>\n",
       "      <td>0.0</td>\n",
       "      <td>2.0</td>\n",
       "      <td>0.0</td>\n",
       "      <td>...</td>\n",
       "      <td>0.0</td>\n",
       "      <td>3.0</td>\n",
       "      <td>0.0</td>\n",
       "      <td>0.0</td>\n",
       "      <td>0.0</td>\n",
       "      <td>2.0</td>\n",
       "      <td>0.0</td>\n",
       "      <td>0</td>\n",
       "      <td>0.0</td>\n",
       "      <td>0</td>\n",
       "    </tr>\n",
       "    <tr>\n",
       "      <th>1</th>\n",
       "      <td>2.0</td>\n",
       "      <td>2.0</td>\n",
       "      <td>1.0</td>\n",
       "      <td>3.0</td>\n",
       "      <td>1.0</td>\n",
       "      <td>1.0</td>\n",
       "      <td>1.0</td>\n",
       "      <td>0.0</td>\n",
       "      <td>3.0</td>\n",
       "      <td>2.0</td>\n",
       "      <td>...</td>\n",
       "      <td>0.0</td>\n",
       "      <td>4.0</td>\n",
       "      <td>2.0</td>\n",
       "      <td>0.0</td>\n",
       "      <td>1.0</td>\n",
       "      <td>1.0</td>\n",
       "      <td>1.0</td>\n",
       "      <td>0</td>\n",
       "      <td>4.0</td>\n",
       "      <td>2</td>\n",
       "    </tr>\n",
       "    <tr>\n",
       "      <th>2</th>\n",
       "      <td>2.0</td>\n",
       "      <td>3.0</td>\n",
       "      <td>2.0</td>\n",
       "      <td>0.0</td>\n",
       "      <td>4.0</td>\n",
       "      <td>2.0</td>\n",
       "      <td>3.0</td>\n",
       "      <td>2.0</td>\n",
       "      <td>3.0</td>\n",
       "      <td>3.0</td>\n",
       "      <td>...</td>\n",
       "      <td>0.0</td>\n",
       "      <td>2.0</td>\n",
       "      <td>2.0</td>\n",
       "      <td>2.0</td>\n",
       "      <td>0.0</td>\n",
       "      <td>0.0</td>\n",
       "      <td>2.0</td>\n",
       "      <td>0</td>\n",
       "      <td>2.0</td>\n",
       "      <td>1</td>\n",
       "    </tr>\n",
       "    <tr>\n",
       "      <th>3</th>\n",
       "      <td>2.0</td>\n",
       "      <td>1.0</td>\n",
       "      <td>0.0</td>\n",
       "      <td>0.0</td>\n",
       "      <td>1.0</td>\n",
       "      <td>0.0</td>\n",
       "      <td>0.0</td>\n",
       "      <td>0.0</td>\n",
       "      <td>0.0</td>\n",
       "      <td>1.0</td>\n",
       "      <td>...</td>\n",
       "      <td>0.0</td>\n",
       "      <td>0.0</td>\n",
       "      <td>0.0</td>\n",
       "      <td>0.0</td>\n",
       "      <td>0.0</td>\n",
       "      <td>0.0</td>\n",
       "      <td>0.0</td>\n",
       "      <td>0</td>\n",
       "      <td>0.0</td>\n",
       "      <td>2</td>\n",
       "    </tr>\n",
       "    <tr>\n",
       "      <th>4</th>\n",
       "      <td>1.0</td>\n",
       "      <td>1.0</td>\n",
       "      <td>0.0</td>\n",
       "      <td>1.0</td>\n",
       "      <td>0.0</td>\n",
       "      <td>0.0</td>\n",
       "      <td>0.0</td>\n",
       "      <td>0.0</td>\n",
       "      <td>1.0</td>\n",
       "      <td>0.0</td>\n",
       "      <td>...</td>\n",
       "      <td>0.0</td>\n",
       "      <td>0.0</td>\n",
       "      <td>0.0</td>\n",
       "      <td>0.0</td>\n",
       "      <td>0.0</td>\n",
       "      <td>0.0</td>\n",
       "      <td>0.0</td>\n",
       "      <td>0</td>\n",
       "      <td>0.0</td>\n",
       "      <td>1</td>\n",
       "    </tr>\n",
       "  </tbody>\n",
       "</table>\n",
       "<p>5 rows × 90 columns</p>\n",
       "</div>"
      ],
      "text/plain": [
       "   SCL01  SCL02  SCL03  SCL04  SCL05  SCL06  SCL07  SCL08  SCL09  SCL10  ...  \\\n",
       "0    3.0    0.0    3.0    3.0    2.0    0.0    0.0    0.0    2.0    0.0  ...   \n",
       "1    2.0    2.0    1.0    3.0    1.0    1.0    1.0    0.0    3.0    2.0  ...   \n",
       "2    2.0    3.0    2.0    0.0    4.0    2.0    3.0    2.0    3.0    3.0  ...   \n",
       "3    2.0    1.0    0.0    0.0    1.0    0.0    0.0    0.0    0.0    1.0  ...   \n",
       "4    1.0    1.0    0.0    1.0    0.0    0.0    0.0    0.0    1.0    0.0  ...   \n",
       "\n",
       "   SCL81  SCL82  SCL83  SCL84  SCL85  SCL86  SCL87  SCL88  SCL89  SCL90  \n",
       "0    0.0    3.0    0.0    0.0    0.0    2.0    0.0      0    0.0      0  \n",
       "1    0.0    4.0    2.0    0.0    1.0    1.0    1.0      0    4.0      2  \n",
       "2    0.0    2.0    2.0    2.0    0.0    0.0    2.0      0    2.0      1  \n",
       "3    0.0    0.0    0.0    0.0    0.0    0.0    0.0      0    0.0      2  \n",
       "4    0.0    0.0    0.0    0.0    0.0    0.0    0.0      0    0.0      1  \n",
       "\n",
       "[5 rows x 90 columns]"
      ]
     },
     "execution_count": 7,
     "metadata": {},
     "output_type": "execute_result"
    }
   ],
   "source": [
    "new_scl.head().iloc[:,11:101]"
   ]
  },
  {
   "cell_type": "code",
   "execution_count": 8,
   "id": "6407474b",
   "metadata": {},
   "outputs": [
    {
     "data": {
      "text/plain": [
       "((611, 139), (2444, 139))"
      ]
     },
     "execution_count": 8,
     "metadata": {},
     "output_type": "execute_result"
    }
   ],
   "source": [
    "scl.shape, new_scl.shape"
   ]
  },
  {
   "cell_type": "code",
   "execution_count": 9,
   "id": "e51d8c36",
   "metadata": {},
   "outputs": [],
   "source": [
    "scl_only = scl.iloc[:,11:101]\n",
    "\n",
    "new_scl_only = new_scl.iloc[:,11:101]"
   ]
  },
  {
   "cell_type": "code",
   "execution_count": 14,
   "id": "10daaf80",
   "metadata": {},
   "outputs": [],
   "source": [
    "# 12*2,10*2,9*2,13*2,10*2,6*2,7*2,2*6,2*10,2*7"
   ]
  },
  {
   "cell_type": "markdown",
   "id": "3b5dfe35",
   "metadata": {},
   "source": [
    "* 12 - Som\n",
    "* 10 - Ocd\n",
    "* 9 - IPS\n",
    "* 13 - Dep\n",
    "* 10 - Anx\n",
    "* 6 - AH\n",
    "* 7 - PAnx\n",
    "* 6 - PI\n",
    "* 10 - P\n",
    "* 7 - ADD"
   ]
  },
  {
   "cell_type": "markdown",
   "id": "104fa7b3",
   "metadata": {},
   "source": [
    "#### Calculation for mental illness for both datasets"
   ]
  },
  {
   "cell_type": "code",
   "execution_count": 10,
   "id": "9c3c43b9",
   "metadata": {},
   "outputs": [],
   "source": [
    "som_index = scl_only[scl_only.iloc[:,[0,3,11,26,39,41,47,48,51,52,55,57]].sum(axis=1)>=24].index\n",
    "ocd_index = scl_only[scl_only.iloc[:,[2,8,9,27,37,44,45,50,54,64]].sum(axis=1)>=20].index\n",
    "ips_index = scl_only[scl_only.iloc[:,[5,20,33,35,36,40,60,68,72]].sum(axis=1)>=18].index\n",
    "dep_index = scl_only[scl_only.iloc[:,[4,13,14,19,21,25,28,29,30,31,53,70,78]].sum(axis=1)>=26].index\n",
    "anx_index = scl_only[scl_only.iloc[:,[1,16,22,32,38,56,71,77,79,85]].sum(axis=1)>=20].index\n",
    "ah_index = scl_only[scl_only.iloc[:,[10,23,62,66,73,80]].sum(axis=1)>=12].index\n",
    "panx_index = scl_only[scl_only.iloc[:,[12,24,46,49,69,74,81]].sum(axis=1)>=14].index\n",
    "pi_index = scl_only[scl_only.iloc[:,[7,17,42,67,75,82]].sum(axis=1)>=12].index\n",
    "p_index = scl_only[scl_only.iloc[:,[6,15,34,61,76,83,84,86,87,89]].sum(axis=1)>=20].index\n",
    "add_index = scl_only[scl_only.iloc[:,[18,43,58,59,63,65,88]].sum(axis=1)>=14].index\n",
    "\n",
    "\n",
    "scl_only['som'] = [1 if x in som_index else 0 for x in range(scl_only.shape[0])]\n",
    "scl_only['ocd'] = [1 if x in ocd_index else 0 for x in range(scl_only.shape[0])]\n",
    "scl_only['ips'] = [1 if x in ips_index else 0 for x in range(scl_only.shape[0])]\n",
    "scl_only['dep'] = [1 if x in dep_index else 0 for x in range(scl_only.shape[0])]\n",
    "scl_only['anx'] = [1 if x in anx_index else 0 for x in range(scl_only.shape[0])]\n",
    "scl_only['ah'] = [1 if x in ah_index else 0 for x in range(scl_only.shape[0])]\n",
    "scl_only['panx'] = [1 if x in panx_index else 0 for x in range(scl_only.shape[0])]\n",
    "scl_only['pi'] = [1 if x in pi_index else 0 for x in range(scl_only.shape[0])]\n",
    "scl_only['p'] = [1 if x in p_index else 0 for x in range(scl_only.shape[0])]\n",
    "scl_only['add'] = [1 if x in add_index else 0 for x in range(scl_only.shape[0])]"
   ]
  },
  {
   "cell_type": "code",
   "execution_count": 11,
   "id": "31dea1e7",
   "metadata": {},
   "outputs": [],
   "source": [
    "new_som_index = new_scl_only[new_scl_only.iloc[:,[0,3,11,26,39,41,47,48,51,52,55,57]].sum(axis=1)>=24].index\n",
    "new_ocd_index = new_scl_only[new_scl_only.iloc[:,[2,8,9,27,37,44,45,50,54,64]].sum(axis=1)>=20].index\n",
    "new_ips_index = new_scl_only[new_scl_only.iloc[:,[5,20,33,35,36,40,60,68,72]].sum(axis=1)>=18].index\n",
    "new_dep_index = new_scl_only[new_scl_only.iloc[:,[4,13,14,19,21,25,28,29,30,31,53,70,78]].sum(axis=1)>=26].index\n",
    "new_anx_index = new_scl_only[new_scl_only.iloc[:,[1,16,22,32,38,56,71,77,79,85]].sum(axis=1)>=20].index\n",
    "new_ah_index = new_scl_only[new_scl_only.iloc[:,[10,23,62,66,73,80]].sum(axis=1)>=12].index\n",
    "new_panx_index = new_scl_only[new_scl_only.iloc[:,[12,24,46,49,69,74,81]].sum(axis=1)>=14].index\n",
    "new_pi_index = new_scl_only[new_scl_only.iloc[:,[7,17,42,67,75,82]].sum(axis=1)>=12].index\n",
    "new_p_index = new_scl_only[new_scl_only.iloc[:,[6,15,34,61,76,83,84,86,87,89]].sum(axis=1)>=20].index\n",
    "new_add_index = new_scl_only[new_scl_only.iloc[:,[18,43,58,59,63,65,88]].sum(axis=1)>=14].index\n",
    "\n",
    "\n",
    "new_scl_only['som'] = [1 if x in new_som_index else 0 for x in range(new_scl_only.shape[0])]\n",
    "new_scl_only['ocd'] = [1 if x in new_ocd_index else 0 for x in range(new_scl_only.shape[0])]\n",
    "new_scl_only['ips'] = [1 if x in new_ips_index else 0 for x in range(new_scl_only.shape[0])]\n",
    "new_scl_only['dep'] = [1 if x in new_dep_index else 0 for x in range(new_scl_only.shape[0])]\n",
    "new_scl_only['anx'] = [1 if x in new_anx_index else 0 for x in range(new_scl_only.shape[0])]\n",
    "new_scl_only['ah'] = [1 if x in new_ah_index else 0 for x in range(new_scl_only.shape[0])]\n",
    "new_scl_only['panx'] = [1 if x in new_panx_index else 0 for x in range(new_scl_only.shape[0])]\n",
    "new_scl_only['pi'] = [1 if x in new_pi_index else 0 for x in range(new_scl_only.shape[0])]\n",
    "new_scl_only['p'] = [1 if x in new_p_index else 0 for x in range(new_scl_only.shape[0])]\n",
    "new_scl_only['add'] = [1 if x in new_add_index else 0 for x in range(new_scl_only.shape[0])]"
   ]
  },
  {
   "cell_type": "code",
   "execution_count": 12,
   "id": "b50a8afb",
   "metadata": {},
   "outputs": [
    {
     "data": {
      "text/plain": [
       "(147, 588)"
      ]
     },
     "execution_count": 12,
     "metadata": {},
     "output_type": "execute_result"
    }
   ],
   "source": [
    "scl_only.isnull().sum().sum(), new_scl_only.isnull().sum().sum()"
   ]
  },
  {
   "cell_type": "code",
   "execution_count": 13,
   "id": "34084a4a",
   "metadata": {},
   "outputs": [
    {
     "name": "stdout",
     "output_type": "stream",
     "text": [
      "0\n",
      "0\n"
     ]
    }
   ],
   "source": [
    "scl_only.dropna(inplace=True)\n",
    "print( scl_only.isnull().sum().sum() )\n",
    "\n",
    "new_scl_only.dropna(inplace=True)\n",
    "print( new_scl_only.isnull().sum().sum() )"
   ]
  },
  {
   "cell_type": "code",
   "execution_count": 15,
   "id": "089ab345",
   "metadata": {},
   "outputs": [],
   "source": [
    "# scl_only.to_csv('scl_roginal_op.csv', index=False)"
   ]
  },
  {
   "cell_type": "code",
   "execution_count": 19,
   "id": "cee4ed55",
   "metadata": {},
   "outputs": [],
   "source": [
    "X = scl_only.iloc[:,0:90]\n",
    "y = scl_only.iloc[:,90:]"
   ]
  },
  {
   "cell_type": "code",
   "execution_count": 20,
   "id": "4df41dcb",
   "metadata": {},
   "outputs": [],
   "source": [
    "new_X = new_scl_only.iloc[:,0:90]\n",
    "new_y = new_scl_only.iloc[:,90:]"
   ]
  },
  {
   "cell_type": "code",
   "execution_count": 21,
   "id": "cec10de7",
   "metadata": {},
   "outputs": [
    {
     "data": {
      "text/plain": [
       "((407, 90), (136, 90), (407, 10), (136, 10))"
      ]
     },
     "execution_count": 21,
     "metadata": {},
     "output_type": "execute_result"
    }
   ],
   "source": [
    "X, X_val, y, y_val = train_test_split(X, y, test_size=0.25, random_state=24)\n",
    "X.shape , X_val.shape , y.shape , y_val.shape "
   ]
  },
  {
   "cell_type": "code",
   "execution_count": 22,
   "id": "64be18c2",
   "metadata": {},
   "outputs": [
    {
     "data": {
      "text/plain": [
       "((1629, 90), (543, 90), (1629, 10), (543, 10))"
      ]
     },
     "execution_count": 22,
     "metadata": {},
     "output_type": "execute_result"
    }
   ],
   "source": [
    "X_, X_val_, y_, y_val_ = train_test_split(new_X, new_y, test_size=0.25, random_state=24)\n",
    "X_.shape , X_val_.shape , y_.shape , y_val_.shape "
   ]
  },
  {
   "cell_type": "markdown",
   "id": "3534b048",
   "metadata": {},
   "source": [
    "#### We are keeping the model same but changing the number of columns"
   ]
  },
  {
   "cell_type": "code",
   "execution_count": 23,
   "id": "54ca8c52",
   "metadata": {},
   "outputs": [],
   "source": [
    "def result(model, X, y, X_val, y_val, f):\n",
    "    X, X_val = X.iloc[:,:f], X_val.iloc[:,:f]\n",
    "    \n",
    "    model.fit(X,y)\n",
    "    \n",
    "    y_pred = model.predict(X_val)\n",
    "    \n",
    "    acc = accuracy_score(y_val, y_pred)\n",
    "    \n",
    "#     print(f'Model Accuracy with {f} columns out of 90 is {acc}')\n",
    "    \n",
    "    return np.round( (acc*100), 3)"
   ]
  },
  {
   "cell_type": "code",
   "execution_count": 25,
   "id": "45425ac9",
   "metadata": {},
   "outputs": [
    {
     "name": "stderr",
     "output_type": "stream",
     "text": [
      "100%|██████████████████████████████████████████████████████████████████████████████████| 90/90 [01:51<00:00,  1.24s/it]\n"
     ]
    }
   ],
   "source": [
    "result_model1 = {}\n",
    "for i in tqdm(range(1,91)):\n",
    "    result_score1 = result(\n",
    "    MultiOutputClassifier(RandomForestClassifier()),\n",
    "    X,\n",
    "    y,\n",
    "    X_val,\n",
    "    y_val,\n",
    "    i\n",
    "    )\n",
    "\n",
    "    result_model1[f'{i}_num_col'] = result_score1  "
   ]
  },
  {
   "cell_type": "code",
   "execution_count": 26,
   "id": "40fe6fe0",
   "metadata": {},
   "outputs": [
    {
     "name": "stderr",
     "output_type": "stream",
     "text": [
      "100%|██████████████████████████████████████████████████████████████████████████████████| 90/90 [03:16<00:00,  2.18s/it]\n"
     ]
    }
   ],
   "source": [
    "result_model2 = {}\n",
    "for i in tqdm(range(1,91)):\n",
    "    result_score2 = result(\n",
    "    MultiOutputClassifier(RandomForestClassifier()),\n",
    "    X_,\n",
    "    y_,\n",
    "    X_val_,\n",
    "    y_val_,\n",
    "    i\n",
    "    )\n",
    "\n",
    "    result_model2[f'{i}_num_col'] = result_score2  "
   ]
  },
  {
   "cell_type": "code",
   "execution_count": 27,
   "id": "77ff529a",
   "metadata": {},
   "outputs": [
    {
     "data": {
      "text/html": [
       "<div>\n",
       "<style scoped>\n",
       "    .dataframe tbody tr th:only-of-type {\n",
       "        vertical-align: middle;\n",
       "    }\n",
       "\n",
       "    .dataframe tbody tr th {\n",
       "        vertical-align: top;\n",
       "    }\n",
       "\n",
       "    .dataframe thead th {\n",
       "        text-align: right;\n",
       "    }\n",
       "</style>\n",
       "<table border=\"1\" class=\"dataframe\">\n",
       "  <thead>\n",
       "    <tr style=\"text-align: right;\">\n",
       "      <th></th>\n",
       "      <th>accuracy_score</th>\n",
       "      <th>col_num</th>\n",
       "    </tr>\n",
       "  </thead>\n",
       "  <tbody>\n",
       "    <tr>\n",
       "      <th>0</th>\n",
       "      <td>58.824</td>\n",
       "      <td>1_num_col</td>\n",
       "    </tr>\n",
       "    <tr>\n",
       "      <th>1</th>\n",
       "      <td>55.147</td>\n",
       "      <td>2_num_col</td>\n",
       "    </tr>\n",
       "    <tr>\n",
       "      <th>2</th>\n",
       "      <td>55.147</td>\n",
       "      <td>3_num_col</td>\n",
       "    </tr>\n",
       "    <tr>\n",
       "      <th>3</th>\n",
       "      <td>55.147</td>\n",
       "      <td>4_num_col</td>\n",
       "    </tr>\n",
       "    <tr>\n",
       "      <th>4</th>\n",
       "      <td>55.147</td>\n",
       "      <td>5_num_col</td>\n",
       "    </tr>\n",
       "  </tbody>\n",
       "</table>\n",
       "</div>"
      ],
      "text/plain": [
       "   accuracy_score    col_num\n",
       "0          58.824  1_num_col\n",
       "1          55.147  2_num_col\n",
       "2          55.147  3_num_col\n",
       "3          55.147  4_num_col\n",
       "4          55.147  5_num_col"
      ]
     },
     "execution_count": 27,
     "metadata": {},
     "output_type": "execute_result"
    }
   ],
   "source": [
    "result_log1 = pd.DataFrame(\n",
    "    result_model1.values(),\n",
    "    index=result_model1.keys(),\n",
    "    columns = ['accuracy_score']\n",
    ").reset_index()\n",
    "\n",
    "index = result_log1['index']\n",
    "result_log1['col_num'] = index\n",
    "result_log1.drop(columns=['index'], axis=1, inplace=True)\n",
    "\n",
    "result_log1.head()"
   ]
  },
  {
   "cell_type": "code",
   "execution_count": 28,
   "id": "5a177e2f",
   "metadata": {},
   "outputs": [
    {
     "data": {
      "text/html": [
       "<div>\n",
       "<style scoped>\n",
       "    .dataframe tbody tr th:only-of-type {\n",
       "        vertical-align: middle;\n",
       "    }\n",
       "\n",
       "    .dataframe tbody tr th {\n",
       "        vertical-align: top;\n",
       "    }\n",
       "\n",
       "    .dataframe thead th {\n",
       "        text-align: right;\n",
       "    }\n",
       "</style>\n",
       "<table border=\"1\" class=\"dataframe\">\n",
       "  <thead>\n",
       "    <tr style=\"text-align: right;\">\n",
       "      <th></th>\n",
       "      <th>accuracy_score</th>\n",
       "      <th>col_num</th>\n",
       "    </tr>\n",
       "  </thead>\n",
       "  <tbody>\n",
       "    <tr>\n",
       "      <th>0</th>\n",
       "      <td>70.902</td>\n",
       "      <td>1_num_col</td>\n",
       "    </tr>\n",
       "    <tr>\n",
       "      <th>1</th>\n",
       "      <td>69.429</td>\n",
       "      <td>2_num_col</td>\n",
       "    </tr>\n",
       "    <tr>\n",
       "      <th>2</th>\n",
       "      <td>68.877</td>\n",
       "      <td>3_num_col</td>\n",
       "    </tr>\n",
       "    <tr>\n",
       "      <th>3</th>\n",
       "      <td>68.508</td>\n",
       "      <td>4_num_col</td>\n",
       "    </tr>\n",
       "    <tr>\n",
       "      <th>4</th>\n",
       "      <td>69.061</td>\n",
       "      <td>5_num_col</td>\n",
       "    </tr>\n",
       "  </tbody>\n",
       "</table>\n",
       "</div>"
      ],
      "text/plain": [
       "   accuracy_score    col_num\n",
       "0          70.902  1_num_col\n",
       "1          69.429  2_num_col\n",
       "2          68.877  3_num_col\n",
       "3          68.508  4_num_col\n",
       "4          69.061  5_num_col"
      ]
     },
     "execution_count": 28,
     "metadata": {},
     "output_type": "execute_result"
    }
   ],
   "source": [
    "result_log2 = pd.DataFrame(\n",
    "    result_model2.values(),\n",
    "    index=result_model2.keys(),\n",
    "    columns = ['accuracy_score']\n",
    ").reset_index()\n",
    "\n",
    "index = result_log2['index']\n",
    "result_log2['col_num'] = index\n",
    "result_log2.drop(columns=['index'], axis=1, inplace=True)\n",
    "\n",
    "result_log2.head()"
   ]
  },
  {
   "cell_type": "code",
   "execution_count": 44,
   "id": "95426976",
   "metadata": {},
   "outputs": [
    {
     "data": {
      "image/png": "[encoded data removed]",
      "text/plain": [
       "<Figure size 1200x600 with 1 Axes>"
      ]
     },
     "metadata": {},
     "output_type": "display_data"
    }
   ],
   "source": [
    "plt.figure(figsize=(12,6))\n",
    "\n",
    "sns.lineplot(result_log1['accuracy_score'])\n",
    "\n",
    "max_acc = result_log1['accuracy_score'].max()\n",
    "avg = result_log1['accuracy_score'].mean()\n",
    "a,b,c = result_log1[result_log1['accuracy_score']==result_log1['accuracy_score'].max()].index\n",
    "\n",
    "plt.axhline(y = max_acc, c='black', alpha=0.5)\n",
    "plt.axhline(y = avg, c='green', alpha=0.5)\n",
    "plt.axvline(x = a, c='black', alpha=0.5)\n",
    "plt.axvline(x = b, c='black', alpha=0.5)\n",
    "plt.axvline(x = c, c='black', alpha=0.5)\n",
    "\n",
    "\n",
    "plt.annotate(f'Max Accuracy: {max_acc:.2f}',\n",
    "             xy=(len(result_log1['accuracy_score']) - 25, max_acc),\n",
    "             xytext=(len(result_log1['accuracy_score']) - 25, max_acc + 0.02),\n",
    "             ha='center')\n",
    "plt.annotate(f'Average accuracy line: {avg:.2f}',\n",
    "             xy=(len(result_log1['accuracy_score']) - 25, max_acc),\n",
    "             xytext=(len(result_log1['accuracy_score']) - 75, max_acc - 5.5),\n",
    "             ha='center')\n",
    "\n",
    "plt.annotate(f'Col_number: {a}',\n",
    "             xy=(len(result_log1['accuracy_score']) - 1, max_acc),\n",
    "             xytext=(len(result_log1['accuracy_score']) - 19, max_acc - 12),\n",
    "             ha='center', rotation=90)\n",
    "\n",
    "plt.annotate(f'Col_number: {b}',\n",
    "             xy=(len(result_log1['accuracy_score']) - 1, max_acc),\n",
    "             xytext=(len(result_log1['accuracy_score']) - 11, max_acc - 12),\n",
    "             ha='center', rotation=90)\n",
    "\n",
    "plt.annotate(f'Col_number: {c}',\n",
    "             xy=(len(result_log1['accuracy_score']) - 1, max_acc),\n",
    "             xytext=(len(result_log1['accuracy_score']) - 8.5, max_acc - 12),\n",
    "             ha='center', rotation=90)\n",
    "\n",
    "\n",
    "plt.xlabel('Number of columns')\n",
    "plt.show()"
   ]
  },
  {
   "cell_type": "code",
   "execution_count": 52,
   "id": "d50a20ad",
   "metadata": {},
   "outputs": [
    {
     "data": {
      "image/png": "[encoded data removed]",
      "text/plain": [
       "<Figure size 1200x600 with 1 Axes>"
      ]
     },
     "metadata": {},
     "output_type": "display_data"
    }
   ],
   "source": [
    "plt.figure(figsize=(12,6))\n",
    "\n",
    "sns.lineplot(result_log2['accuracy_score'])\n",
    "\n",
    "max_acc = result_log2['accuracy_score'].max()\n",
    "avg = result_log2['accuracy_score'].mean()\n",
    "# a,b,c,d = result_log2[result_log2['accuracy_score']==result_log2['accuracy_score'].max()].index\n",
    "a,b = result_log2[result_log2['accuracy_score']==result_log2['accuracy_score'].max()].index\n",
    "\n",
    "plt.axhline(y = max_acc, c='black', alpha=0.5)\n",
    "# plt.axhline(y = avg, c='green', alpha=0.5)\n",
    "plt.axvline(x = a, c='black', alpha=0.5)\n",
    "plt.axvline(x = b, c='black', alpha=0.5)\n",
    "# plt.axvline(x = c, c='black', alpha=0.5)\n",
    "# plt.axvline(x = d, c='black', alpha=0.5)\n",
    "\n",
    "\n",
    "plt.annotate(f'Max Accuracy: {max_acc:.2f}',\n",
    "             xy=(len(result_log1['accuracy_score']) - 25, max_acc),\n",
    "             xytext=(len(result_log1['accuracy_score']) - 35, max_acc + 0.02),\n",
    "             ha='center')\n",
    "# plt.annotate(f'Average accuracy line: {avg:.2f}',\n",
    "#              xy=(len(result_log1['accuracy_score']) - 25, max_acc),\n",
    "#              xytext=(len(result_log1['accuracy_score']) - 75, max_acc - 5.5),\n",
    "#              ha='center')\n",
    "\n",
    "plt.annotate(f'Col_number: {a}',\n",
    "             xy=(len(result_log1['accuracy_score']) - 1, max_acc),\n",
    "             xytext=(len(result_log1['accuracy_score']) - 18.5, max_acc - 6),\n",
    "             ha='center', rotation=90)\n",
    "\n",
    "plt.annotate(f'Col_number: {b}',\n",
    "             xy=(len(result_log1['accuracy_score']) - 1, max_acc),\n",
    "             xytext=(len(result_log1['accuracy_score']) - 8.5, max_acc - 6),\n",
    "             ha='center', rotation=90)\n",
    "\n",
    "# plt.annotate(f'Col_number: {c}',\n",
    "#              xy=(len(result_log1['accuracy_score']) - 1, max_acc),\n",
    "#              xytext=(len(result_log1['accuracy_score']) - 12.5, max_acc - 6),\n",
    "#              ha='center', rotation=90)\n",
    "\n",
    "# plt.annotate(f'Col_number: {d}',\n",
    "#              xy=(len(result_log1['accuracy_score']) - 1, max_acc),\n",
    "#              xytext=(len(result_log1['accuracy_score']) - 9.5, max_acc - 6),\n",
    "#              ha='center', rotation=90)\n",
    "\n",
    "\n",
    "plt.xlabel('Number of columns')\n",
    "plt.show()"
   ]
  },
  {
   "cell_type": "markdown",
   "id": "ecfe3320",
   "metadata": {},
   "source": [
    "## Let's do PCA (Principal component analysis) analysis "
   ]
  },
  {
   "cell_type": "code",
   "execution_count": 151,
   "id": "ce5d314c",
   "metadata": {},
   "outputs": [
    {
     "data": {
      "text/html": [
       "<style>#sk-container-id-6 {color: black;}#sk-container-id-6 pre{padding: 0;}#sk-container-id-6 div.sk-toggleable {background-color: white;}#sk-container-id-6 label.sk-toggleable__label {cursor: pointer;display: block;width: 100%;margin-bottom: 0;padding: 0.3em;box-sizing: border-box;text-align: center;}#sk-container-id-6 label.sk-toggleable__label-arrow:before {content: \"▸\";float: left;margin-right: 0.25em;color: #696969;}#sk-container-id-6 label.sk-toggleable__label-arrow:hover:before {color: black;}#sk-container-id-6 div.sk-estimator:hover label.sk-toggleable__label-arrow:before {color: black;}#sk-container-id-6 div.sk-toggleable__content {max-height: 0;max-width: 0;overflow: hidden;text-align: left;background-color: #f0f8ff;}#sk-container-id-6 div.sk-toggleable__content pre {margin: 0.2em;color: black;border-radius: 0.25em;background-color: #f0f8ff;}#sk-container-id-6 input.sk-toggleable__control:checked~div.sk-toggleable__content {max-height: 200px;max-width: 100%;overflow: auto;}#sk-container-id-6 input.sk-toggleable__control:checked~label.sk-toggleable__label-arrow:before {content: \"▾\";}#sk-container-id-6 div.sk-estimator input.sk-toggleable__control:checked~label.sk-toggleable__label {background-color: #d4ebff;}#sk-container-id-6 div.sk-label input.sk-toggleable__control:checked~label.sk-toggleable__label {background-color: #d4ebff;}#sk-container-id-6 input.sk-hidden--visually {border: 0;clip: rect(1px 1px 1px 1px);clip: rect(1px, 1px, 1px, 1px);height: 1px;margin: -1px;overflow: hidden;padding: 0;position: absolute;width: 1px;}#sk-container-id-6 div.sk-estimator {font-family: monospace;background-color: #f0f8ff;border: 1px dotted black;border-radius: 0.25em;box-sizing: border-box;margin-bottom: 0.5em;}#sk-container-id-6 div.sk-estimator:hover {background-color: #d4ebff;}#sk-container-id-6 div.sk-parallel-item::after {content: \"\";width: 100%;border-bottom: 1px solid gray;flex-grow: 1;}#sk-container-id-6 div.sk-label:hover label.sk-toggleable__label {background-color: #d4ebff;}#sk-container-id-6 div.sk-serial::before {content: \"\";position: absolute;border-left: 1px solid gray;box-sizing: border-box;top: 0;bottom: 0;left: 50%;z-index: 0;}#sk-container-id-6 div.sk-serial {display: flex;flex-direction: column;align-items: center;background-color: white;padding-right: 0.2em;padding-left: 0.2em;position: relative;}#sk-container-id-6 div.sk-item {position: relative;z-index: 1;}#sk-container-id-6 div.sk-parallel {display: flex;align-items: stretch;justify-content: center;background-color: white;position: relative;}#sk-container-id-6 div.sk-item::before, #sk-container-id-6 div.sk-parallel-item::before {content: \"\";position: absolute;border-left: 1px solid gray;box-sizing: border-box;top: 0;bottom: 0;left: 50%;z-index: -1;}#sk-container-id-6 div.sk-parallel-item {display: flex;flex-direction: column;z-index: 1;position: relative;background-color: white;}#sk-container-id-6 div.sk-parallel-item:first-child::after {align-self: flex-end;width: 50%;}#sk-container-id-6 div.sk-parallel-item:last-child::after {align-self: flex-start;width: 50%;}#sk-container-id-6 div.sk-parallel-item:only-child::after {width: 0;}#sk-container-id-6 div.sk-dashed-wrapped {border: 1px dashed gray;margin: 0 0.4em 0.5em 0.4em;box-sizing: border-box;padding-bottom: 0.4em;background-color: white;}#sk-container-id-6 div.sk-label label {font-family: monospace;font-weight: bold;display: inline-block;line-height: 1.2em;}#sk-container-id-6 div.sk-label-container {text-align: center;}#sk-container-id-6 div.sk-container {/* jupyter's `normalize.less` sets `[hidden] { display: none; }` but bootstrap.min.css set `[hidden] { display: none !important; }` so we also need the `!important` here to be able to override the default hidden behavior on the sphinx rendered scikit-learn.org. See: https://github.com/scikit-learn/scikit-learn/issues/21755 */display: inline-block !important;position: relative;}#sk-container-id-6 div.sk-text-repr-fallback {display: none;}</style><div id=\"sk-container-id-6\" class=\"sk-top-container\"><div class=\"sk-text-repr-fallback\"><pre>PCA(n_components=15)</pre><b>In a Jupyter environment, please rerun this cell to show the HTML representation or trust the notebook. <br />On GitHub, the HTML representation is unable to render, please try loading this page with nbviewer.org.</b></div><div class=\"sk-container\" hidden><div class=\"sk-item\"><div class=\"sk-estimator sk-toggleable\"><input class=\"sk-toggleable__control sk-hidden--visually\" id=\"sk-estimator-id-13\" type=\"checkbox\" checked><label for=\"sk-estimator-id-13\" class=\"sk-toggleable__label sk-toggleable__label-arrow\">PCA</label><div class=\"sk-toggleable__content\"><pre>PCA(n_components=15)</pre></div></div></div></div></div>"
      ],
      "text/plain": [
       "PCA(n_components=15)"
      ]
     },
     "execution_count": 151,
     "metadata": {},
     "output_type": "execute_result"
    }
   ],
   "source": [
    "pca = PCA(n_components=15)\n",
    "pca.fit(X_.iloc[:,:15])"
   ]
  },
  {
   "cell_type": "code",
   "execution_count": 152,
   "id": "bc31fe92",
   "metadata": {},
   "outputs": [],
   "source": [
    "with open('pca.pkl', 'wb') as f:\n",
    "    pickle.dump(pca, f)"
   ]
  },
  {
   "cell_type": "code",
   "execution_count": 54,
   "id": "ccf6e5ff",
   "metadata": {},
   "outputs": [],
   "source": [
    "X_pca = pca.transform(X_)\n",
    "x_pca = pd.DataFrame(X_pca, columns=X.columns[:90])"
   ]
  },
  {
   "cell_type": "code",
   "execution_count": 55,
   "id": "3956a64a",
   "metadata": {},
   "outputs": [],
   "source": [
    "x_pca_val = pca.transform(X_val_)\n",
    "x_pca_val = pd.DataFrame(x_pca_val, columns=X_val_.columns)"
   ]
  },
  {
   "cell_type": "code",
   "execution_count": 56,
   "id": "295c8401",
   "metadata": {},
   "outputs": [
    {
     "data": {
      "text/plain": [
       "array([0.35885746, 0.39633619, 0.4272735 , 0.45455542, 0.47664469,\n",
       "       0.49305857, 0.50888073, 0.52443022, 0.53813627, 0.55088921,\n",
       "       0.56331048, 0.57520002, 0.58684813, 0.5980131 , 0.60854471,\n",
       "       0.61863985, 0.62847107, 0.63790038, 0.64714337, 0.65622556,\n",
       "       0.66515249, 0.67381277, 0.68215837, 0.69043999, 0.69841455,\n",
       "       0.70629739, 0.71385402, 0.72138324, 0.72864143, 0.73571865,\n",
       "       0.74267904, 0.7495175 , 0.75615739, 0.76275962, 0.7692835 ,\n",
       "       0.77568552, 0.78203573, 0.78825828, 0.79431489, 0.80024985,\n",
       "       0.80608884, 0.81187474, 0.81746789, 0.82298579, 0.82836363,\n",
       "       0.83367578, 0.83898742, 0.84421809, 0.84936313, 0.85442656,\n",
       "       0.85945193, 0.8643703 , 0.86912583, 0.8738516 , 0.87852306,\n",
       "       0.8831135 , 0.88762728, 0.8920703 , 0.89644463, 0.90077881,\n",
       "       0.90509875, 0.90931734, 0.91347287, 0.91758533, 0.92160572,\n",
       "       0.92556804, 0.92950252, 0.93333471, 0.93711509, 0.94078584,\n",
       "       0.94437016, 0.94790088, 0.95136888, 0.9547923 , 0.95817458,\n",
       "       0.96145883, 0.96466193, 0.96783023, 0.97092642, 0.97394244,\n",
       "       0.97687393, 0.9797978 , 0.98263766, 0.98539815, 0.98807072,\n",
       "       0.99069803, 0.99316941, 0.99559056, 0.99785604, 1.        ])"
      ]
     },
     "execution_count": 56,
     "metadata": {},
     "output_type": "execute_result"
    }
   ],
   "source": [
    "np.cumsum(pca.explained_variance_ratio_)\n",
    "# pca.explained_variance_ratio_"
   ]
  },
  {
   "cell_type": "code",
   "execution_count": 57,
   "id": "c12b5976",
   "metadata": {},
   "outputs": [
    {
     "data": {
      "text/plain": [
       "array([0.00214396, 0.00440944, 0.00683059, 0.00930197, 0.01192928,\n",
       "       0.01460185, 0.01736234, 0.0202022 , 0.02312607, 0.02605756,\n",
       "       0.02907358, 0.03216977, 0.03533807, 0.03854117, 0.04182542,\n",
       "       0.0452077 , 0.04863112, 0.05209912, 0.05562984, 0.05921416,\n",
       "       0.06288491, 0.06666529, 0.07049748, 0.07443196, 0.07839428,\n",
       "       0.08241467, 0.08652713, 0.09068266, 0.09490125, 0.09922119,\n",
       "       0.10355537, 0.1079297 , 0.11237272, 0.1168865 , 0.12147694,\n",
       "       0.1261484 , 0.13087417, 0.1356297 , 0.14054807, 0.14557344,\n",
       "       0.15063687, 0.15578191, 0.16101258, 0.16632422, 0.17163637,\n",
       "       0.17701421, 0.18253211, 0.18812526, 0.19391116, 0.19975015,\n",
       "       0.20568511, 0.21174172, 0.21796427, 0.22431448, 0.2307165 ,\n",
       "       0.23724038, 0.24384261, 0.2504825 , 0.25732096, 0.26428135,\n",
       "       0.27135857, 0.27861676, 0.28614598, 0.29370261, 0.30158545,\n",
       "       0.30956001, 0.31784163, 0.32618723, 0.33484751, 0.34377444,\n",
       "       0.35285663, 0.36209962, 0.37152893, 0.38136015, 0.39145529,\n",
       "       0.4019869 , 0.41315187, 0.42479998, 0.43668952, 0.44911079,\n",
       "       0.46186373, 0.47556978, 0.49111927, 0.50694143, 0.52335531,\n",
       "       0.54544458, 0.5727265 , 0.60366381, 0.64114254, 1.        ])"
      ]
     },
     "execution_count": 57,
     "metadata": {},
     "output_type": "execute_result"
    }
   ],
   "source": [
    "np.cumsum(sorted(pca.explained_variance_ratio_, reverse=False))"
   ]
  },
  {
   "cell_type": "code",
   "execution_count": 58,
   "id": "7721b011",
   "metadata": {},
   "outputs": [
    {
     "data": {
      "image/png": "[encoded data removed]",
      "text/plain": [
       "<Figure size 640x480 with 1 Axes>"
      ]
     },
     "metadata": {},
     "output_type": "display_data"
    }
   ],
   "source": [
    "plt.plot(np.cumsum(sorted(pca.explained_variance_ratio_, reverse=False)), label='Unsorted values', c='blue')\n",
    "plt.plot(np.cumsum(pca.explained_variance_ratio_), label='Sorted values', c='red')\n",
    "\n",
    "plt.xlabel('n_components')\n",
    "plt.ylabel('variance')\n",
    "# plt.axhline(y = 0.91347287, color = 'b') #, label = 'axvline - full height')\n",
    "# plt.axvline(x = 62, color = 'r') #, label = 'axvline - full height')\n",
    "plt.legend()\n",
    "plt.show()"
   ]
  },
  {
   "cell_type": "code",
   "execution_count": 59,
   "id": "546c60e5",
   "metadata": {},
   "outputs": [
    {
     "name": "stderr",
     "output_type": "stream",
     "text": [
      "100%|██████████████████████████████████████████████████████████████████████████████████| 90/90 [25:55<00:00, 17.28s/it]\n"
     ]
    }
   ],
   "source": [
    "result_model_pca = {}\n",
    "for i in tqdm(range(1,91)):\n",
    "    result_score_pca = result(\n",
    "    MultiOutputClassifier(RandomForestClassifier()),\n",
    "    x_pca,\n",
    "    y_,\n",
    "    x_pca_val,\n",
    "    y_val_,\n",
    "    i\n",
    "    )\n",
    "\n",
    "    result_model_pca[f'{i}_num_col'] = result_score_pca  "
   ]
  },
  {
   "cell_type": "code",
   "execution_count": 60,
   "id": "98c43965",
   "metadata": {},
   "outputs": [
    {
     "data": {
      "text/html": [
       "<div>\n",
       "<style scoped>\n",
       "    .dataframe tbody tr th:only-of-type {\n",
       "        vertical-align: middle;\n",
       "    }\n",
       "\n",
       "    .dataframe tbody tr th {\n",
       "        vertical-align: top;\n",
       "    }\n",
       "\n",
       "    .dataframe thead th {\n",
       "        text-align: right;\n",
       "    }\n",
       "</style>\n",
       "<table border=\"1\" class=\"dataframe\">\n",
       "  <thead>\n",
       "    <tr style=\"text-align: right;\">\n",
       "      <th></th>\n",
       "      <th>accuracy_score</th>\n",
       "      <th>col_num</th>\n",
       "    </tr>\n",
       "  </thead>\n",
       "  <tbody>\n",
       "    <tr>\n",
       "      <th>0</th>\n",
       "      <td>68.140</td>\n",
       "      <td>1_num_col</td>\n",
       "    </tr>\n",
       "    <tr>\n",
       "      <th>1</th>\n",
       "      <td>74.401</td>\n",
       "      <td>2_num_col</td>\n",
       "    </tr>\n",
       "    <tr>\n",
       "      <th>2</th>\n",
       "      <td>74.586</td>\n",
       "      <td>3_num_col</td>\n",
       "    </tr>\n",
       "    <tr>\n",
       "      <th>3</th>\n",
       "      <td>76.059</td>\n",
       "      <td>4_num_col</td>\n",
       "    </tr>\n",
       "    <tr>\n",
       "      <th>4</th>\n",
       "      <td>75.691</td>\n",
       "      <td>5_num_col</td>\n",
       "    </tr>\n",
       "  </tbody>\n",
       "</table>\n",
       "</div>"
      ],
      "text/plain": [
       "   accuracy_score    col_num\n",
       "0          68.140  1_num_col\n",
       "1          74.401  2_num_col\n",
       "2          74.586  3_num_col\n",
       "3          76.059  4_num_col\n",
       "4          75.691  5_num_col"
      ]
     },
     "execution_count": 60,
     "metadata": {},
     "output_type": "execute_result"
    }
   ],
   "source": [
    "result_log_pca = pd.DataFrame(\n",
    "    result_model_pca.values(),\n",
    "    index=result_model_pca.keys(),\n",
    "    columns = ['accuracy_score']\n",
    ").reset_index()\n",
    "\n",
    "index = result_log_pca['index']\n",
    "result_log_pca['col_num'] = index\n",
    "result_log_pca.drop(columns=['index'], axis=1, inplace=True)\n",
    "\n",
    "result_log_pca.head()"
   ]
  },
  {
   "cell_type": "code",
   "execution_count": 73,
   "id": "55a199b2",
   "metadata": {},
   "outputs": [
    {
     "data": {
      "image/png": "[encoded data removed]",
      "text/plain": [
       "<Figure size 1200x600 with 1 Axes>"
      ]
     },
     "metadata": {},
     "output_type": "display_data"
    }
   ],
   "source": [
    "plt.figure(figsize=(12,6))\n",
    "\n",
    "sns.lineplot(result_log_pca['accuracy_score'])\n",
    "\n",
    "max_acc = result_log_pca['accuracy_score'].max()\n",
    "avg = result_log_pca['accuracy_score'].mean()\n",
    "# a = result_log_pca[result_log_pca['accuracy_score']==result_log_pca['accuracy_score'].max()].index[0]\n",
    "a,b,c,d = result_log_pca[result_log_pca['accuracy_score']==result_log_pca['accuracy_score'].max()].index\n",
    "\n",
    "\n",
    "plt.axhline(y = max_acc, c='black', alpha=0.5)\n",
    "plt.axvline(x = a, c='black', alpha=0.5)\n",
    "plt.axvline(x = b, c='black', alpha=0.5)\n",
    "plt.axvline(x = c, c='black', alpha=0.5)\n",
    "plt.axvline(x = d, c='black', alpha=0.5)\n",
    "\n",
    "\n",
    "\n",
    "plt.annotate(f'Max Accuracy: {max_acc:.2f}',\n",
    "             xy=(len(result_log_pca['accuracy_score']) - 25, max_acc),\n",
    "             xytext=(len(result_log_pca['accuracy_score']) - 35, max_acc + 0.02),\n",
    "             ha='center')\n",
    "\n",
    "plt.annotate(f'Col_number: {a}',\n",
    "             xy=(len(result_log_pca['accuracy_score']) - 1, max_acc),\n",
    "             xytext=(len(result_log_pca['accuracy_score']) -88, max_acc - 7),\n",
    "             ha='center', rotation=90)\n",
    "\n",
    "plt.annotate(f'Col_number: {b}',\n",
    "             xy=(len(result_log_pca['accuracy_score']) - 1, max_acc),\n",
    "             xytext=(len(result_log_pca['accuracy_score']) -84, max_acc - 7),\n",
    "             ha='center', rotation=90)\n",
    "\n",
    "plt.annotate(f'Col_number: {c}',\n",
    "             xy=(len(result_log_pca['accuracy_score']) - 1, max_acc),\n",
    "             xytext=(len(result_log_pca['accuracy_score']) -81, max_acc - 7),\n",
    "             ha='center', rotation=90)\n",
    "\n",
    "plt.annotate(f'Col_number: {d}',\n",
    "             xy=(len(result_log_pca['accuracy_score']) - 1, max_acc),\n",
    "             xytext=(len(result_log_pca['accuracy_score']) -76, max_acc - 7),\n",
    "             ha='center', rotation=90)\n",
    "\n",
    "plt.xlabel('Number of columns')\n",
    "plt.show()"
   ]
  },
  {
   "cell_type": "markdown",
   "id": "53734768",
   "metadata": {},
   "source": [
    "## Let's do T-sne (T-distributed stochastic neighbour embedding) analysis "
   ]
  },
  {
   "cell_type": "code",
   "execution_count": 74,
   "id": "a1cbb363",
   "metadata": {},
   "outputs": [],
   "source": [
    "tsne = TSNE(random_state = 42, n_components=3,verbose=0, perplexity=40, n_iter=300)"
   ]
  },
  {
   "cell_type": "code",
   "execution_count": 75,
   "id": "b22d3345",
   "metadata": {},
   "outputs": [],
   "source": [
    "x_tsne = tsne.fit_transform(X_)"
   ]
  },
  {
   "cell_type": "code",
   "execution_count": 76,
   "id": "76a1495f",
   "metadata": {},
   "outputs": [],
   "source": [
    "x_tsne_val = tsne.fit_transform(X_val_)"
   ]
  },
  {
   "cell_type": "code",
   "execution_count": 77,
   "id": "d8b41aba",
   "metadata": {},
   "outputs": [],
   "source": [
    "x_tsne_ = pd.DataFrame(x_tsne, columns=['col1','col2','col3'])\n",
    "x_tsne_val_ = pd.DataFrame(x_tsne_val, columns=['col1','col2','col3'])"
   ]
  },
  {
   "cell_type": "code",
   "execution_count": 78,
   "id": "595b828c",
   "metadata": {},
   "outputs": [
    {
     "data": {
      "image/png": "[encoded data removed]",
      "text/plain": [
       "<Figure size 640x480 with 2 Axes>"
      ]
     },
     "metadata": {},
     "output_type": "display_data"
    }
   ],
   "source": [
    "plt.subplot(121)\n",
    "plt.scatter(x_tsne[:, 0], x_tsne[:, 1], s= 5, cmap='Spectral')\n",
    "plt.subplot(122)\n",
    "plt.scatter(x_tsne_val[:, 0], x_tsne_val[:, 1], s= 5, cmap='Spectral')\n",
    "\n",
    "plt.show()"
   ]
  },
  {
   "cell_type": "code",
   "execution_count": 79,
   "id": "4ef6fc79",
   "metadata": {},
   "outputs": [
    {
     "name": "stderr",
     "output_type": "stream",
     "text": [
      "100%|████████████████████████████████████████████████████████████████████████████████████| 3/3 [00:09<00:00,  3.02s/it]\n"
     ]
    }
   ],
   "source": [
    "result_model_tsne = {}\n",
    "for i in tqdm(range(1,4)):\n",
    "    result_score_tsne = result(\n",
    "    MultiOutputClassifier(RandomForestClassifier()),\n",
    "    x_tsne_,\n",
    "    y_,\n",
    "    x_tsne_val_,\n",
    "    y_val_,\n",
    "    i\n",
    "    )\n",
    "\n",
    "    result_model_tsne[f'{i}_num_col'] = result_score_tsne  "
   ]
  },
  {
   "cell_type": "code",
   "execution_count": 80,
   "id": "046d4594",
   "metadata": {},
   "outputs": [
    {
     "data": {
      "text/plain": [
       "{'1_num_col': 35.543, '2_num_col': 41.252, '3_num_col': 45.12}"
      ]
     },
     "execution_count": 80,
     "metadata": {},
     "output_type": "execute_result"
    }
   ],
   "source": [
    "result_model_tsne"
   ]
  },
  {
   "cell_type": "markdown",
   "id": "cfa760da",
   "metadata": {},
   "source": [
    "### Now We can optimize the predictor (Random_forest) "
   ]
  },
  {
   "cell_type": "code",
   "execution_count": 105,
   "id": "0bf4bc03",
   "metadata": {},
   "outputs": [],
   "source": [
    "param_grid = {\n",
    "    'n_estimators': [100, 200, 500],\n",
    "    'max_depth': [None, 10, 20, 30],\n",
    "    'min_samples_split': [2, 5, 10, 7, 15],\n",
    "    'min_samples_leaf': [1, 2, 4],\n",
    "    'criterion': ['gini', 'entropy']\n",
    "}"
   ]
  },
  {
   "cell_type": "code",
   "execution_count": 92,
   "id": "460eebb5",
   "metadata": {},
   "outputs": [
    {
     "name": "stdout",
     "output_type": "stream",
     "text": [
      "0.7532228360957642\n",
      "0.7495395948434622\n",
      "0.7476979742173112\n",
      "0.7476979742173112\n"
     ]
    }
   ],
   "source": [
    "# Let's decide the best number of n_estimators \n",
    "\n",
    "for n in tqdm(param_grid['n_estimators']):\n",
    "    m = MultiOutputClassifier(RandomForestClassifier(n_estimators=n) )\n",
    "    m.fit(x_pca, y_)\n",
    "    y_pred = m.predict(x_pca_val)\n",
    "    acc = accuracy_score(y_val_, y_pred)\n",
    "    print(f'Accuracy: {acc} with {n} number of n_estimators')\n",
    "    \n",
    "# n_estimators = 100"
   ]
  },
  {
   "cell_type": "code",
   "execution_count": 93,
   "id": "de5a7c26",
   "metadata": {},
   "outputs": [
    {
     "name": "stderr",
     "output_type": "stream",
     "text": [
      " 25%|█████████████████████                                                               | 1/4 [00:33<01:40, 33.39s/it]"
     ]
    },
    {
     "name": "stdout",
     "output_type": "stream",
     "text": [
      "Accuracy: 0.7495395948434622 with None number of max_depth\n"
     ]
    },
    {
     "name": "stderr",
     "output_type": "stream",
     "text": [
      "\r\n",
      " 50%|██████████████████████████████████████████                                          | 2/4 [00:55<00:53, 26.63s/it]"
     ]
    },
    {
     "name": "stdout",
     "output_type": "stream",
     "text": [
      "Accuracy: 0.7403314917127072 with 10 number of max_depth\n"
     ]
    },
    {
     "name": "stderr",
     "output_type": "stream",
     "text": [
      "\r\n",
      " 75%|███████████████████████████████████████████████████████████████                     | 3/4 [01:25<00:28, 28.09s/it]"
     ]
    },
    {
     "name": "stdout",
     "output_type": "stream",
     "text": [
      "Accuracy: 0.7513812154696132 with 20 number of max_depth\n"
     ]
    },
    {
     "name": "stderr",
     "output_type": "stream",
     "text": [
      "100%|████████████████████████████████████████████████████████████████████████████████████| 4/4 [01:54<00:00, 28.75s/it]"
     ]
    },
    {
     "name": "stdout",
     "output_type": "stream",
     "text": [
      "Accuracy: 0.7458563535911602 with 30 number of max_depth\n"
     ]
    },
    {
     "name": "stderr",
     "output_type": "stream",
     "text": [
      "\n"
     ]
    }
   ],
   "source": [
    "# Let's decide the best number of max_depth \n",
    "\n",
    "for n in tqdm(param_grid['max_depth']):\n",
    "    m = MultiOutputClassifier(RandomForestClassifier(max_depth=n) )\n",
    "    m.fit(x_pca, y_)\n",
    "    y_pred = m.predict(x_pca_val)\n",
    "    acc = accuracy_score(y_val_, y_pred)\n",
    "    print(f'Accuracy: {acc} with {n} number of max_depth')\n",
    "    \n",
    "    \n",
    "# max_depth = 20 "
   ]
  },
  {
   "cell_type": "code",
   "execution_count": 97,
   "id": "494c6ec7",
   "metadata": {},
   "outputs": [
    {
     "name": "stderr",
     "output_type": "stream",
     "text": [
      " 20%|████████████████▊                                                                   | 1/5 [00:34<02:17, 34.42s/it]"
     ]
    },
    {
     "name": "stdout",
     "output_type": "stream",
     "text": [
      "Accuracy: 0.7532228360957642 with 2 number of min_samples_split\n"
     ]
    },
    {
     "name": "stderr",
     "output_type": "stream",
     "text": [
      "\r\n",
      " 40%|█████████████████████████████████▌                                                  | 2/5 [01:04<01:35, 31.70s/it]"
     ]
    },
    {
     "name": "stdout",
     "output_type": "stream",
     "text": [
      "Accuracy: 0.7495395948434622 with 5 number of min_samples_split\n"
     ]
    },
    {
     "name": "stderr",
     "output_type": "stream",
     "text": [
      "\r\n",
      " 60%|██████████████████████████████████████████████████▍                                 | 3/5 [01:34<01:01, 30.91s/it]"
     ]
    },
    {
     "name": "stdout",
     "output_type": "stream",
     "text": [
      "Accuracy: 0.7476979742173112 with 10 number of min_samples_split\n"
     ]
    },
    {
     "name": "stderr",
     "output_type": "stream",
     "text": [
      "\r\n",
      " 80%|███████████████████████████████████████████████████████████████████▏                | 4/5 [02:04<00:30, 30.56s/it]"
     ]
    },
    {
     "name": "stdout",
     "output_type": "stream",
     "text": [
      "Accuracy: 0.7476979742173112 with 7 number of min_samples_split\n"
     ]
    },
    {
     "name": "stderr",
     "output_type": "stream",
     "text": [
      "100%|████████████████████████████████████████████████████████████████████████████████████| 5/5 [02:33<00:00, 30.73s/it]"
     ]
    },
    {
     "name": "stdout",
     "output_type": "stream",
     "text": [
      "Accuracy: 0.7495395948434622 with 15 number of min_samples_split\n"
     ]
    },
    {
     "name": "stderr",
     "output_type": "stream",
     "text": [
      "\n"
     ]
    }
   ],
   "source": [
    "## Let's decide the best number of min_samples_split \n",
    "\n",
    "for n in tqdm(param_grid['min_samples_split']):\n",
    "    m = MultiOutputClassifier(RandomForestClassifier(min_samples_split=n) )\n",
    "    m.fit(x_pca, y_)\n",
    "    y_pred = m.predict(x_pca_val)\n",
    "    acc = accuracy_score(y_val_, y_pred)\n",
    "    print(f'Accuracy: {acc} with {n} number of min_samples_split')\n",
    "  \n",
    "# min_samples_split = 2"
   ]
  },
  {
   "cell_type": "code",
   "execution_count": 98,
   "id": "dfa7b8f7",
   "metadata": {},
   "outputs": [
    {
     "name": "stderr",
     "output_type": "stream",
     "text": [
      " 33%|████████████████████████████                                                        | 1/3 [00:30<01:00, 30.07s/it]"
     ]
    },
    {
     "name": "stdout",
     "output_type": "stream",
     "text": [
      "Accuracy: 0.7476979742173112 with 1 number of min_samples_leaf\n"
     ]
    },
    {
     "name": "stderr",
     "output_type": "stream",
     "text": [
      "\r\n",
      " 67%|████████████████████████████████████████████████████████                            | 2/3 [00:58<00:28, 28.98s/it]"
     ]
    },
    {
     "name": "stdout",
     "output_type": "stream",
     "text": [
      "Accuracy: 0.7513812154696132 with 2 number of min_samples_leaf\n"
     ]
    },
    {
     "name": "stderr",
     "output_type": "stream",
     "text": [
      "100%|████████████████████████████████████████████████████████████████████████████████████| 3/3 [01:24<00:00, 28.16s/it]"
     ]
    },
    {
     "name": "stdout",
     "output_type": "stream",
     "text": [
      "Accuracy: 0.7476979742173112 with 4 number of min_samples_leaf\n"
     ]
    },
    {
     "name": "stderr",
     "output_type": "stream",
     "text": [
      "\n"
     ]
    }
   ],
   "source": [
    "# Let's decide the best number of min_samples_leaf \n",
    "\n",
    "for n in tqdm(param_grid['min_samples_leaf']):\n",
    "    m = MultiOutputClassifier(RandomForestClassifier(min_samples_leaf=n) )\n",
    "    m.fit(x_pca, y_)\n",
    "    y_pred = m.predict(x_pca_val)\n",
    "    acc = accuracy_score(y_val_, y_pred)\n",
    "    print(f'Accuracy: {acc} with {n} number of min_samples_leaf')\n",
    "   \n",
    "# min_samples_leaf = 2"
   ]
  },
  {
   "cell_type": "code",
   "execution_count": null,
   "id": "253a9bca",
   "metadata": {
    "collapsed": true
   },
   "outputs": [],
   "source": [
    "# Let's decide the best number of bootstrap \n",
    "\n",
    "for n in tqdm(param_grid['bootstrap']):\n",
    "    m = MultiOutputClassifier(RandomForestClassifier(bootstrap=n) )\n",
    "    m.fit(x_pca, y_)\n",
    "    y_pred = m.predict(x_pca_val)\n",
    "    acc = accuracy_score(y_val_, y_pred)\n",
    "    print(f'Accuracy: {acc} with {n} number of bootstrap')\n",
    "\n",
    "# bootstrap = False"
   ]
  },
  {
   "cell_type": "code",
   "execution_count": 100,
   "id": "d647c982",
   "metadata": {},
   "outputs": [
    {
     "name": "stderr",
     "output_type": "stream",
     "text": [
      " 50%|██████████████████████████████████████████                                          | 1/2 [00:30<00:30, 30.42s/it]"
     ]
    },
    {
     "name": "stdout",
     "output_type": "stream",
     "text": [
      "Accuracy: 0.7495395948434622 with gini number of criterion\n"
     ]
    },
    {
     "name": "stderr",
     "output_type": "stream",
     "text": [
      "100%|████████████████████████████████████████████████████████████████████████████████████| 2/2 [00:53<00:00, 26.76s/it]"
     ]
    },
    {
     "name": "stdout",
     "output_type": "stream",
     "text": [
      "Accuracy: 0.7219152854511971 with entropy number of criterion\n"
     ]
    },
    {
     "name": "stderr",
     "output_type": "stream",
     "text": [
      "\n"
     ]
    }
   ],
   "source": [
    "# Let's decide the best number of criterion \n",
    "\n",
    "for n in tqdm(param_grid['criterion']):\n",
    "    m = MultiOutputClassifier(RandomForestClassifier(criterion=n) )\n",
    "    m.fit(x_pca, y_)\n",
    "    y_pred = m.predict(x_pca_val)\n",
    "    acc = accuracy_score(y_val_, y_pred)\n",
    "    print(f'Accuracy: {acc} with {n} number of criterion')\n",
    "    \n",
    "# criterion = gini"
   ]
  },
  {
   "cell_type": "code",
   "execution_count": 117,
   "id": "84a6ff8e",
   "metadata": {},
   "outputs": [],
   "source": [
    "rf = RandomForestClassifier( \n",
    "    n_estimators = 100, \n",
    "    max_depth = 20, \n",
    "    min_samples_split = 2, \n",
    "    min_samples_leaf = 2, \n",
    "    bootstrap = False, \n",
    "    criterion = 'gini'\n",
    ")\n",
    "\n",
    "multi_rf = MultiOutputClassifier(rf)"
   ]
  },
  {
   "cell_type": "code",
   "execution_count": 145,
   "id": "ab0528b5",
   "metadata": {},
   "outputs": [
    {
     "data": {
      "text/html": [
       "<style>#sk-container-id-4 {color: black;}#sk-container-id-4 pre{padding: 0;}#sk-container-id-4 div.sk-toggleable {background-color: white;}#sk-container-id-4 label.sk-toggleable__label {cursor: pointer;display: block;width: 100%;margin-bottom: 0;padding: 0.3em;box-sizing: border-box;text-align: center;}#sk-container-id-4 label.sk-toggleable__label-arrow:before {content: \"▸\";float: left;margin-right: 0.25em;color: #696969;}#sk-container-id-4 label.sk-toggleable__label-arrow:hover:before {color: black;}#sk-container-id-4 div.sk-estimator:hover label.sk-toggleable__label-arrow:before {color: black;}#sk-container-id-4 div.sk-toggleable__content {max-height: 0;max-width: 0;overflow: hidden;text-align: left;background-color: #f0f8ff;}#sk-container-id-4 div.sk-toggleable__content pre {margin: 0.2em;color: black;border-radius: 0.25em;background-color: #f0f8ff;}#sk-container-id-4 input.sk-toggleable__control:checked~div.sk-toggleable__content {max-height: 200px;max-width: 100%;overflow: auto;}#sk-container-id-4 input.sk-toggleable__control:checked~label.sk-toggleable__label-arrow:before {content: \"▾\";}#sk-container-id-4 div.sk-estimator input.sk-toggleable__control:checked~label.sk-toggleable__label {background-color: #d4ebff;}#sk-container-id-4 div.sk-label input.sk-toggleable__control:checked~label.sk-toggleable__label {background-color: #d4ebff;}#sk-container-id-4 input.sk-hidden--visually {border: 0;clip: rect(1px 1px 1px 1px);clip: rect(1px, 1px, 1px, 1px);height: 1px;margin: -1px;overflow: hidden;padding: 0;position: absolute;width: 1px;}#sk-container-id-4 div.sk-estimator {font-family: monospace;background-color: #f0f8ff;border: 1px dotted black;border-radius: 0.25em;box-sizing: border-box;margin-bottom: 0.5em;}#sk-container-id-4 div.sk-estimator:hover {background-color: #d4ebff;}#sk-container-id-4 div.sk-parallel-item::after {content: \"\";width: 100%;border-bottom: 1px solid gray;flex-grow: 1;}#sk-container-id-4 div.sk-label:hover label.sk-toggleable__label {background-color: #d4ebff;}#sk-container-id-4 div.sk-serial::before {content: \"\";position: absolute;border-left: 1px solid gray;box-sizing: border-box;top: 0;bottom: 0;left: 50%;z-index: 0;}#sk-container-id-4 div.sk-serial {display: flex;flex-direction: column;align-items: center;background-color: white;padding-right: 0.2em;padding-left: 0.2em;position: relative;}#sk-container-id-4 div.sk-item {position: relative;z-index: 1;}#sk-container-id-4 div.sk-parallel {display: flex;align-items: stretch;justify-content: center;background-color: white;position: relative;}#sk-container-id-4 div.sk-item::before, #sk-container-id-4 div.sk-parallel-item::before {content: \"\";position: absolute;border-left: 1px solid gray;box-sizing: border-box;top: 0;bottom: 0;left: 50%;z-index: -1;}#sk-container-id-4 div.sk-parallel-item {display: flex;flex-direction: column;z-index: 1;position: relative;background-color: white;}#sk-container-id-4 div.sk-parallel-item:first-child::after {align-self: flex-end;width: 50%;}#sk-container-id-4 div.sk-parallel-item:last-child::after {align-self: flex-start;width: 50%;}#sk-container-id-4 div.sk-parallel-item:only-child::after {width: 0;}#sk-container-id-4 div.sk-dashed-wrapped {border: 1px dashed gray;margin: 0 0.4em 0.5em 0.4em;box-sizing: border-box;padding-bottom: 0.4em;background-color: white;}#sk-container-id-4 div.sk-label label {font-family: monospace;font-weight: bold;display: inline-block;line-height: 1.2em;}#sk-container-id-4 div.sk-label-container {text-align: center;}#sk-container-id-4 div.sk-container {/* jupyter's `normalize.less` sets `[hidden] { display: none; }` but bootstrap.min.css set `[hidden] { display: none !important; }` so we also need the `!important` here to be able to override the default hidden behavior on the sphinx rendered scikit-learn.org. See: https://github.com/scikit-learn/scikit-learn/issues/21755 */display: inline-block !important;position: relative;}#sk-container-id-4 div.sk-text-repr-fallback {display: none;}</style><div id=\"sk-container-id-4\" class=\"sk-top-container\"><div class=\"sk-text-repr-fallback\"><pre>MultiOutputClassifier(estimator=RandomForestClassifier(bootstrap=False,\n",
       "                                                       max_depth=20,\n",
       "                                                       min_samples_leaf=2))</pre><b>In a Jupyter environment, please rerun this cell to show the HTML representation or trust the notebook. <br />On GitHub, the HTML representation is unable to render, please try loading this page with nbviewer.org.</b></div><div class=\"sk-container\" hidden><div class=\"sk-item sk-dashed-wrapped\"><div class=\"sk-label-container\"><div class=\"sk-label sk-toggleable\"><input class=\"sk-toggleable__control sk-hidden--visually\" id=\"sk-estimator-id-9\" type=\"checkbox\" ><label for=\"sk-estimator-id-9\" class=\"sk-toggleable__label sk-toggleable__label-arrow\">MultiOutputClassifier</label><div class=\"sk-toggleable__content\"><pre>MultiOutputClassifier(estimator=RandomForestClassifier(bootstrap=False,\n",
       "                                                       max_depth=20,\n",
       "                                                       min_samples_leaf=2))</pre></div></div></div><div class=\"sk-parallel\"><div class=\"sk-parallel-item\"><div class=\"sk-item\"><div class=\"sk-label-container\"><div class=\"sk-label sk-toggleable\"><input class=\"sk-toggleable__control sk-hidden--visually\" id=\"sk-estimator-id-10\" type=\"checkbox\" ><label for=\"sk-estimator-id-10\" class=\"sk-toggleable__label sk-toggleable__label-arrow\">estimator: RandomForestClassifier</label><div class=\"sk-toggleable__content\"><pre>RandomForestClassifier(bootstrap=False, max_depth=20, min_samples_leaf=2)</pre></div></div></div><div class=\"sk-serial\"><div class=\"sk-item\"><div class=\"sk-estimator sk-toggleable\"><input class=\"sk-toggleable__control sk-hidden--visually\" id=\"sk-estimator-id-11\" type=\"checkbox\" ><label for=\"sk-estimator-id-11\" class=\"sk-toggleable__label sk-toggleable__label-arrow\">RandomForestClassifier</label><div class=\"sk-toggleable__content\"><pre>RandomForestClassifier(bootstrap=False, max_depth=20, min_samples_leaf=2)</pre></div></div></div></div></div></div></div></div></div></div>"
      ],
      "text/plain": [
       "MultiOutputClassifier(estimator=RandomForestClassifier(bootstrap=False,\n",
       "                                                       max_depth=20,\n",
       "                                                       min_samples_leaf=2))"
      ]
     },
     "execution_count": 145,
     "metadata": {},
     "output_type": "execute_result"
    }
   ],
   "source": [
    "multi_rf.fit(x_pca.iloc[:,:15], y_)"
   ]
  },
  {
   "cell_type": "code",
   "execution_count": 146,
   "id": "8f1a9585",
   "metadata": {},
   "outputs": [
    {
     "name": "stdout",
     "output_type": "stream",
     "text": [
      "Accuracy: 0.7550644567219152\n"
     ]
    }
   ],
   "source": [
    "y_pred = multi_rf.predict(x_pca_val.iloc[:,:15])\n",
    "acc = accuracy_score(y_val_, y_pred)\n",
    "print(f'Accuracy: {acc}')"
   ]
  },
  {
   "cell_type": "code",
   "execution_count": 147,
   "id": "8413e877",
   "metadata": {},
   "outputs": [],
   "source": [
    "import pickle"
   ]
  },
  {
   "cell_type": "code",
   "execution_count": 148,
   "id": "79b57cf0",
   "metadata": {},
   "outputs": [],
   "source": [
    "with open('model1.pkl', 'wb')as f:\n",
    "    pickle.dump(multi_rf, f)"
   ]
  },
  {
   "cell_type": "code",
   "execution_count": 125,
   "id": "150d1c73",
   "metadata": {},
   "outputs": [],
   "source": [
    "illnesses = {\n",
    "    0: 'Somatization',\n",
    "    1: 'Obsessive-Compulsive Disorder',\n",
    "    2: 'Interpersonal Sensitivity',\n",
    "    3: 'Depression',\n",
    "    4: 'Anxiety',\n",
    "    5: 'Anger-Hostility',\n",
    "    6: 'Phobic Anxiety',\n",
    "    7: 'Paranoid Ideation',\n",
    "    8: 'Psychoticism',\n",
    "    9: 'Additional Items'\n",
    "}\n"
   ]
  },
  {
   "cell_type": "code",
   "execution_count": 139,
   "id": "82378d90",
   "metadata": {},
   "outputs": [
    {
     "data": {
      "text/plain": [
       "array([1, 1, 1, 0, 0, 0, 0, 1, 0, 1], dtype=int64)"
      ]
     },
     "execution_count": 139,
     "metadata": {},
     "output_type": "execute_result"
    }
   ],
   "source": [
    "y_.iloc[19,:].values"
   ]
  },
  {
   "cell_type": "code",
   "execution_count": 141,
   "id": "7f9f5027",
   "metadata": {},
   "outputs": [
    {
     "data": {
      "text/plain": [
       "[1, 1, 0, 1, 1, 0, 0, 0, 0, 1]"
      ]
     },
     "execution_count": 141,
     "metadata": {},
     "output_type": "execute_result"
    }
   ],
   "source": [
    "[x for x in y_pred[6]]"
   ]
  },
  {
   "cell_type": "code",
   "execution_count": 144,
   "id": "f8d8a1b2",
   "metadata": {},
   "outputs": [
    {
     "data": {
      "text/plain": [
       "['Somatization',\n",
       " 'Obsessive-Compulsive Disorder',\n",
       " 'Depression',\n",
       " 'Anxiety',\n",
       " 'Additional Items']"
      ]
     },
     "execution_count": 144,
     "metadata": {},
     "output_type": "execute_result"
    }
   ],
   "source": []
  },
  {
   "cell_type": "code",
   "execution_count": 143,
   "id": "79c1767d",
   "metadata": {},
   "outputs": [
    {
     "name": "stdout",
     "output_type": "stream",
     "text": [
      "Somatization\n",
      "Obsessive-Compulsive Disorder\n",
      "Interpersonal Sensitivity\n",
      "Depression\n",
      "Anxiety\n",
      "Anger-Hostility\n",
      "Phobic Anxiety\n",
      "Paranoid Ideation\n",
      "Psychoticism\n",
      "Additional Items\n"
     ]
    }
   ],
   "source": []
  }
 ],
 "metadata": {
  "kernelspec": {
   "display_name": "Python 3 (ipykernel)",
   "language": "python",
   "name": "python3"
  },
  "language_info": {
   "codemirror_mode": {
    "name": "ipython",
    "version": 3
   },
   "file_extension": ".py",
   "mimetype": "text/x-python",
   "name": "python",
   "nbconvert_exporter": "python",
   "pygments_lexer": "ipython3",
   "version": "3.10.5"
  }
 },
 "nbformat": 4,
 "nbformat_minor": 5
}
